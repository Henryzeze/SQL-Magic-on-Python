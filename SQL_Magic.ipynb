{
  "nbformat": 4,
  "nbformat_minor": 0,
  "metadata": {
    "colab": {
      "provenance": []
    },
    "kernelspec": {
      "name": "python3",
      "display_name": "Python 3"
    },
    "language_info": {
      "name": "python"
    }
  },
  "cells": [
    {
      "cell_type": "code",
      "execution_count": 19,
      "metadata": {
        "id": "c8hamHdKK48L"
      },
      "outputs": [],
      "source": [
        "import csv, sqlite3\n",
        "con = sqlite3.connect(\"FinalDB.db\")\n",
        "cur = con.cursor()"
      ]
    },
    {
      "cell_type": "code",
      "source": [
        "%load_ext sql\n",
        "%sql sqlite:///FinalDB.db"
      ],
      "metadata": {
        "id": "ULVR6lngLFRB",
        "colab": {
          "base_uri": "https://localhost:8080/"
        },
        "outputId": "bee24231-1d03-49dc-be46-d6572135951b"
      },
      "execution_count": 20,
      "outputs": [
        {
          "output_type": "stream",
          "name": "stdout",
          "text": [
            "The sql extension is already loaded. To reload it, use:\n",
            "  %reload_ext sql\n"
          ]
        }
      ]
    },
    {
      "cell_type": "code",
      "source": [
        "import pandas\n",
        "df = pandas.read_csv(\"https://cf-courses-data.s3.us.cloud-object-storage.appdomain.cloud/IBMDeveloperSkillsNetwork-DB0201EN-SkillsNetwork/labs/FinalModule_Coursera_V5/data/ChicagoCensusData.csv\")\n",
        "df.to_sql(\"CENSUS_DATA\", con, if_exists='replace', index=False,method=\"multi\")"
      ],
      "metadata": {
        "colab": {
          "base_uri": "https://localhost:8080/"
        },
        "id": "A76GF_bbLaTA",
        "outputId": "16698d49-9eff-4968-b060-749f7604be54"
      },
      "execution_count": 21,
      "outputs": [
        {
          "output_type": "execute_result",
          "data": {
            "text/plain": [
              "78"
            ]
          },
          "metadata": {},
          "execution_count": 21
        }
      ]
    },
    {
      "cell_type": "code",
      "source": [
        "df = pandas.read_csv(\"https://cf-courses-data.s3.us.cloud-object-storage.appdomain.cloud/IBMDeveloperSkillsNetwork-DB0201EN-SkillsNetwork/labs/FinalModule_Coursera_V5/data/ChicagoCrimeData.csv\")\n",
        "df.to_sql(\"CHICAGO_CRIME_DATA\", con, if_exists='replace', index=False, method=\"multi\")"
      ],
      "metadata": {
        "colab": {
          "base_uri": "https://localhost:8080/"
        },
        "id": "yV-epCpkLjwp",
        "outputId": "874dca36-a441-46f4-a7dc-2c90bf3504e0"
      },
      "execution_count": 22,
      "outputs": [
        {
          "output_type": "execute_result",
          "data": {
            "text/plain": [
              "533"
            ]
          },
          "metadata": {},
          "execution_count": 22
        }
      ]
    },
    {
      "cell_type": "code",
      "source": [
        "df = pandas.read_csv(\"https://cf-courses-data.s3.us.cloud-object-storage.appdomain.cloud/IBMDeveloperSkillsNetwork-DB0201EN-SkillsNetwork/labs/FinalModule_Coursera_V5/data/ChicagoPublicSchools.csv\")\n",
        "df.to_sql(\"CHICAGO_PUBLIC_SCHOOLS_DATA\", con, if_exists='replace', index=False, method=\"multi\")"
      ],
      "metadata": {
        "colab": {
          "base_uri": "https://localhost:8080/"
        },
        "id": "qHo8r0x4LoyY",
        "outputId": "9a851d50-c3cf-474f-c227-497a64a1e1a4"
      },
      "execution_count": 23,
      "outputs": [
        {
          "output_type": "execute_result",
          "data": {
            "text/plain": [
              "566"
            ]
          },
          "metadata": {},
          "execution_count": 23
        }
      ]
    },
    {
      "cell_type": "code",
      "source": [
        "%sql SELECT name FROM sqlite_master WHERE type='table'"
      ],
      "metadata": {
        "colab": {
          "base_uri": "https://localhost:8080/",
          "height": 140
        },
        "id": "bzBnPnfBLtRA",
        "outputId": "3b64635a-c0c1-495d-efda-47a12600d45c"
      },
      "execution_count": 24,
      "outputs": [
        {
          "output_type": "stream",
          "name": "stdout",
          "text": [
            " * sqlite:///FinalDB.db\n",
            "Done.\n"
          ]
        },
        {
          "output_type": "execute_result",
          "data": {
            "text/plain": [
              "[('CENSUS_DATA',), ('CHICAGO_CRIME_DATA',), ('CHICAGO_PUBLIC_SCHOOLS_DATA',)]"
            ],
            "text/html": [
              "<table>\n",
              "    <thead>\n",
              "        <tr>\n",
              "            <th>name</th>\n",
              "        </tr>\n",
              "    </thead>\n",
              "    <tbody>\n",
              "        <tr>\n",
              "            <td>CENSUS_DATA</td>\n",
              "        </tr>\n",
              "        <tr>\n",
              "            <td>CHICAGO_CRIME_DATA</td>\n",
              "        </tr>\n",
              "        <tr>\n",
              "            <td>CHICAGO_PUBLIC_SCHOOLS_DATA</td>\n",
              "        </tr>\n",
              "    </tbody>\n",
              "</table>"
            ]
          },
          "metadata": {},
          "execution_count": 24
        }
      ]
    },
    {
      "cell_type": "code",
      "source": [
        "# Find the total number of crimes recorded in the CRIME table\n",
        "%sql SELECT COUNT(*) FROM CHICAGO_CRIME_DATA"
      ],
      "metadata": {
        "colab": {
          "base_uri": "https://localhost:8080/",
          "height": 97
        },
        "id": "H1-HPD_IL8Fp",
        "outputId": "f9fe1978-2bae-4b8a-fb97-afaed653f8a9"
      },
      "execution_count": null,
      "outputs": [
        {
          "output_type": "stream",
          "name": "stdout",
          "text": [
            " * sqlite:///FinalDB.db\n",
            "Done.\n"
          ]
        },
        {
          "output_type": "execute_result",
          "data": {
            "text/plain": [
              "[(533,)]"
            ],
            "text/html": [
              "<table>\n",
              "    <thead>\n",
              "        <tr>\n",
              "            <th>COUNT(*)</th>\n",
              "        </tr>\n",
              "    </thead>\n",
              "    <tbody>\n",
              "        <tr>\n",
              "            <td>533</td>\n",
              "        </tr>\n",
              "    </tbody>\n",
              "</table>"
            ]
          },
          "metadata": {},
          "execution_count": 8
        }
      ]
    },
    {
      "cell_type": "code",
      "source": [
        "# List community areas with per capita income less than 11000.\n",
        "%sql select COMMUNITY_AREA_NAME, COMMUNITY_AREA_NUMBER from CENSUS_DATA WHERE PER_CAPITA_INCOME < 11000"
      ],
      "metadata": {
        "colab": {
          "base_uri": "https://localhost:8080/",
          "height": 161
        },
        "id": "eQxxaLxXMh6R",
        "outputId": "25d47326-d44d-4480-dca7-ae878b63b538"
      },
      "execution_count": null,
      "outputs": [
        {
          "output_type": "stream",
          "name": "stdout",
          "text": [
            " * sqlite:///FinalDB.db\n",
            "Done.\n"
          ]
        },
        {
          "output_type": "execute_result",
          "data": {
            "text/plain": [
              "[('West Garfield Park', 26.0),\n",
              " ('South Lawndale', 30.0),\n",
              " ('Fuller Park', 37.0),\n",
              " ('Riverdale', 54.0)]"
            ],
            "text/html": [
              "<table>\n",
              "    <thead>\n",
              "        <tr>\n",
              "            <th>COMMUNITY_AREA_NAME</th>\n",
              "            <th>COMMUNITY_AREA_NUMBER</th>\n",
              "        </tr>\n",
              "    </thead>\n",
              "    <tbody>\n",
              "        <tr>\n",
              "            <td>West Garfield Park</td>\n",
              "            <td>26.0</td>\n",
              "        </tr>\n",
              "        <tr>\n",
              "            <td>South Lawndale</td>\n",
              "            <td>30.0</td>\n",
              "        </tr>\n",
              "        <tr>\n",
              "            <td>Fuller Park</td>\n",
              "            <td>37.0</td>\n",
              "        </tr>\n",
              "        <tr>\n",
              "            <td>Riverdale</td>\n",
              "            <td>54.0</td>\n",
              "        </tr>\n",
              "    </tbody>\n",
              "</table>"
            ]
          },
          "metadata": {},
          "execution_count": 9
        }
      ]
    },
    {
      "cell_type": "code",
      "source": [
        "# List all case numbers for crimes involving minors?(children are not considered minors for the purposes of crime analysis)\n",
        "%sql select CASE_NUMBER from CHICAGO_CRIME_DATA WHERE DESCRIPTION LIKE \"%MINOR%\""
      ],
      "metadata": {
        "colab": {
          "base_uri": "https://localhost:8080/",
          "height": 119
        },
        "id": "EbDaw0tDNuzy",
        "outputId": "3a26decb-7779-4b02-f2a2-5d5f4e441c6c"
      },
      "execution_count": null,
      "outputs": [
        {
          "output_type": "stream",
          "name": "stdout",
          "text": [
            " * sqlite:///FinalDB.db\n",
            "Done.\n"
          ]
        },
        {
          "output_type": "execute_result",
          "data": {
            "text/plain": [
              "[('HL266884',), ('HK238408',)]"
            ],
            "text/html": [
              "<table>\n",
              "    <thead>\n",
              "        <tr>\n",
              "            <th>CASE_NUMBER</th>\n",
              "        </tr>\n",
              "    </thead>\n",
              "    <tbody>\n",
              "        <tr>\n",
              "            <td>HL266884</td>\n",
              "        </tr>\n",
              "        <tr>\n",
              "            <td>HK238408</td>\n",
              "        </tr>\n",
              "    </tbody>\n",
              "</table>"
            ]
          },
          "metadata": {},
          "execution_count": 10
        }
      ]
    },
    {
      "cell_type": "code",
      "source": [
        "# List all kidnapping crimes involving a child?\n",
        "%sql SELECT * FROM CHICAGO_CRIME_DATA WHERE PRIMARY_TYPE = 'KIDNAPPING' AND DESCRIPTION LIKE '%CHILD%'"
      ],
      "metadata": {
        "colab": {
          "base_uri": "https://localhost:8080/",
          "height": 169
        },
        "id": "NyAMEJykN9r4",
        "outputId": "ba962e54-7c96-46e4-a136-68813a18696d"
      },
      "execution_count": null,
      "outputs": [
        {
          "output_type": "stream",
          "name": "stdout",
          "text": [
            " * sqlite:///FinalDB.db\n",
            "Done.\n"
          ]
        },
        {
          "output_type": "execute_result",
          "data": {
            "text/plain": [
              "[(5276766, 'HN144152', '2007-01-26', '050XX W VAN BUREN ST', '1792', 'KIDNAPPING', 'CHILD ABDUCTION/STRANGER', 'STREET', 0, 0, 1533, 15, 29.0, 25.0, '20', 1143050.0, 1897546.0, 2007, 41.87490841, -87.75024931, '(41.874908413, -87.750249307)')]"
            ],
            "text/html": [
              "<table>\n",
              "    <thead>\n",
              "        <tr>\n",
              "            <th>ID</th>\n",
              "            <th>CASE_NUMBER</th>\n",
              "            <th>DATE</th>\n",
              "            <th>BLOCK</th>\n",
              "            <th>IUCR</th>\n",
              "            <th>PRIMARY_TYPE</th>\n",
              "            <th>DESCRIPTION</th>\n",
              "            <th>LOCATION_DESCRIPTION</th>\n",
              "            <th>ARREST</th>\n",
              "            <th>DOMESTIC</th>\n",
              "            <th>BEAT</th>\n",
              "            <th>DISTRICT</th>\n",
              "            <th>WARD</th>\n",
              "            <th>COMMUNITY_AREA_NUMBER</th>\n",
              "            <th>FBICODE</th>\n",
              "            <th>X_COORDINATE</th>\n",
              "            <th>Y_COORDINATE</th>\n",
              "            <th>YEAR</th>\n",
              "            <th>LATITUDE</th>\n",
              "            <th>LONGITUDE</th>\n",
              "            <th>LOCATION</th>\n",
              "        </tr>\n",
              "    </thead>\n",
              "    <tbody>\n",
              "        <tr>\n",
              "            <td>5276766</td>\n",
              "            <td>HN144152</td>\n",
              "            <td>2007-01-26</td>\n",
              "            <td>050XX W VAN BUREN ST</td>\n",
              "            <td>1792</td>\n",
              "            <td>KIDNAPPING</td>\n",
              "            <td>CHILD ABDUCTION/STRANGER</td>\n",
              "            <td>STREET</td>\n",
              "            <td>0</td>\n",
              "            <td>0</td>\n",
              "            <td>1533</td>\n",
              "            <td>15</td>\n",
              "            <td>29.0</td>\n",
              "            <td>25.0</td>\n",
              "            <td>20</td>\n",
              "            <td>1143050.0</td>\n",
              "            <td>1897546.0</td>\n",
              "            <td>2007</td>\n",
              "            <td>41.87490841</td>\n",
              "            <td>-87.75024931</td>\n",
              "            <td>(41.874908413, -87.750249307)</td>\n",
              "        </tr>\n",
              "    </tbody>\n",
              "</table>"
            ]
          },
          "metadata": {},
          "execution_count": 11
        }
      ]
    },
    {
      "cell_type": "code",
      "source": [
        "# List the kind of crimes that were recorded at schools. (No repetitions)\n",
        "%sql SELECT DISTINCT(PRIMARY_TYPE) FROM CHICAGO_CRIME_DATA WHERE LOCATION_DESCRIPTION LIKE '%SCHOOL%'"
      ],
      "metadata": {
        "colab": {
          "base_uri": "https://localhost:8080/",
          "height": 204
        },
        "id": "PjKzcN8aOH6R",
        "outputId": "91aa3a66-8172-4b6d-8ad8-5e0b8f54f497"
      },
      "execution_count": null,
      "outputs": [
        {
          "output_type": "stream",
          "name": "stdout",
          "text": [
            " * sqlite:///FinalDB.db\n",
            "Done.\n"
          ]
        },
        {
          "output_type": "execute_result",
          "data": {
            "text/plain": [
              "[('BATTERY',),\n",
              " ('CRIMINAL DAMAGE',),\n",
              " ('NARCOTICS',),\n",
              " ('ASSAULT',),\n",
              " ('CRIMINAL TRESPASS',),\n",
              " ('PUBLIC PEACE VIOLATION',)]"
            ],
            "text/html": [
              "<table>\n",
              "    <thead>\n",
              "        <tr>\n",
              "            <th>PRIMARY_TYPE</th>\n",
              "        </tr>\n",
              "    </thead>\n",
              "    <tbody>\n",
              "        <tr>\n",
              "            <td>BATTERY</td>\n",
              "        </tr>\n",
              "        <tr>\n",
              "            <td>CRIMINAL DAMAGE</td>\n",
              "        </tr>\n",
              "        <tr>\n",
              "            <td>NARCOTICS</td>\n",
              "        </tr>\n",
              "        <tr>\n",
              "            <td>ASSAULT</td>\n",
              "        </tr>\n",
              "        <tr>\n",
              "            <td>CRIMINAL TRESPASS</td>\n",
              "        </tr>\n",
              "        <tr>\n",
              "            <td>PUBLIC PEACE VIOLATION</td>\n",
              "        </tr>\n",
              "    </tbody>\n",
              "</table>"
            ]
          },
          "metadata": {},
          "execution_count": 12
        }
      ]
    },
    {
      "cell_type": "code",
      "source": [
        "# List the type of schools along with the average safety score for each type.\n",
        "%%sql select \"Elementary, Middle, or High School\", AVG(SAFETY_SCORE)\n",
        "from CHICAGO_PUBLIC_SCHOOLS_DATA GROUP BY \"Elementary, Middle, or High School\""
      ],
      "metadata": {
        "colab": {
          "base_uri": "https://localhost:8080/",
          "height": 140
        },
        "id": "LS0NruHuOajp",
        "outputId": "6274adfa-2721-46d4-867f-20f36caa73f9"
      },
      "execution_count": null,
      "outputs": [
        {
          "output_type": "stream",
          "name": "stdout",
          "text": [
            " * sqlite:///FinalDB.db\n",
            "Done.\n"
          ]
        },
        {
          "output_type": "execute_result",
          "data": {
            "text/plain": [
              "[('ES', 49.52038369304557), ('HS', 49.62352941176471), ('MS', 48.0)]"
            ],
            "text/html": [
              "<table>\n",
              "    <thead>\n",
              "        <tr>\n",
              "            <th>Elementary, Middle, or High School</th>\n",
              "            <th>AVG(SAFETY_SCORE)</th>\n",
              "        </tr>\n",
              "    </thead>\n",
              "    <tbody>\n",
              "        <tr>\n",
              "            <td>ES</td>\n",
              "            <td>49.52038369304557</td>\n",
              "        </tr>\n",
              "        <tr>\n",
              "            <td>HS</td>\n",
              "            <td>49.62352941176471</td>\n",
              "        </tr>\n",
              "        <tr>\n",
              "            <td>MS</td>\n",
              "            <td>48.0</td>\n",
              "        </tr>\n",
              "    </tbody>\n",
              "</table>"
            ]
          },
          "metadata": {},
          "execution_count": 13
        }
      ]
    },
    {
      "cell_type": "code",
      "source": [
        "# List 5 community areas with highest % of households below poverty line\n",
        "%%sql select COMMUNITY_AREA_NAME, PERCENT_HOUSEHOLDS_BELOW_POVERTY\n",
        "from CENSUS_DATA ORDER BY PERCENT_HOUSEHOLDS_BELOW_POVERTY DESC LIMIT 5"
      ],
      "metadata": {
        "colab": {
          "base_uri": "https://localhost:8080/",
          "height": 183
        },
        "id": "YG96LMckOwEh",
        "outputId": "4805e876-8bb9-40f1-e9d1-9797d7293f3b"
      },
      "execution_count": null,
      "outputs": [
        {
          "output_type": "stream",
          "name": "stdout",
          "text": [
            " * sqlite:///FinalDB.db\n",
            "Done.\n"
          ]
        },
        {
          "output_type": "execute_result",
          "data": {
            "text/plain": [
              "[('Riverdale', 56.5),\n",
              " ('Fuller Park', 51.2),\n",
              " ('Englewood', 46.6),\n",
              " ('North Lawndale', 43.1),\n",
              " ('East Garfield Park', 42.4)]"
            ],
            "text/html": [
              "<table>\n",
              "    <thead>\n",
              "        <tr>\n",
              "            <th>COMMUNITY_AREA_NAME</th>\n",
              "            <th>PERCENT_HOUSEHOLDS_BELOW_POVERTY</th>\n",
              "        </tr>\n",
              "    </thead>\n",
              "    <tbody>\n",
              "        <tr>\n",
              "            <td>Riverdale</td>\n",
              "            <td>56.5</td>\n",
              "        </tr>\n",
              "        <tr>\n",
              "            <td>Fuller Park</td>\n",
              "            <td>51.2</td>\n",
              "        </tr>\n",
              "        <tr>\n",
              "            <td>Englewood</td>\n",
              "            <td>46.6</td>\n",
              "        </tr>\n",
              "        <tr>\n",
              "            <td>North Lawndale</td>\n",
              "            <td>43.1</td>\n",
              "        </tr>\n",
              "        <tr>\n",
              "            <td>East Garfield Park</td>\n",
              "            <td>42.4</td>\n",
              "        </tr>\n",
              "    </tbody>\n",
              "</table>"
            ]
          },
          "metadata": {},
          "execution_count": 14
        }
      ]
    },
    {
      "cell_type": "code",
      "source": [
        "# Which community area is most crime prone? Display the coumminty area number only\n",
        "%%sql select COMMUNITY_AREA_NUMBER from CHICAGO_CRIME_DATA GROUP BY COMMUNITY_AREA_NUMBER\n",
        "ORDER BY COUNT(COMMUNITY_AREA_NUMBER) DESC LIMIT 1"
      ],
      "metadata": {
        "colab": {
          "base_uri": "https://localhost:8080/",
          "height": 97
        },
        "id": "TyYgvLO-O_yy",
        "outputId": "26ccd4c3-1054-44de-b6d9-3ae20f20ed95"
      },
      "execution_count": null,
      "outputs": [
        {
          "output_type": "stream",
          "name": "stdout",
          "text": [
            " * sqlite:///FinalDB.db\n",
            "Done.\n"
          ]
        },
        {
          "output_type": "execute_result",
          "data": {
            "text/plain": [
              "[(25.0,)]"
            ],
            "text/html": [
              "<table>\n",
              "    <thead>\n",
              "        <tr>\n",
              "            <th>COMMUNITY_AREA_NUMBER</th>\n",
              "        </tr>\n",
              "    </thead>\n",
              "    <tbody>\n",
              "        <tr>\n",
              "            <td>25.0</td>\n",
              "        </tr>\n",
              "    </tbody>\n",
              "</table>"
            ]
          },
          "metadata": {},
          "execution_count": 15
        }
      ]
    },
    {
      "cell_type": "code",
      "source": [
        "# Use a sub-query to find the name of the community area with highest hardship index\n",
        "%sql SELECT COMMUNITY_AREA_NAME FROM CENSUS_DATA WHERE HARDSHIP_INDEX = (SELECT MAX(HARDSHIP_INDEX) FROM CENSUS_DATA)"
      ],
      "metadata": {
        "colab": {
          "base_uri": "https://localhost:8080/",
          "height": 97
        },
        "id": "itrQhx5pPKGZ",
        "outputId": "84c29c70-53e2-47ad-842c-1e8eeea871d8"
      },
      "execution_count": null,
      "outputs": [
        {
          "output_type": "stream",
          "name": "stdout",
          "text": [
            " * sqlite:///FinalDB.db\n",
            "Done.\n"
          ]
        },
        {
          "output_type": "execute_result",
          "data": {
            "text/plain": [
              "[('Riverdale',)]"
            ],
            "text/html": [
              "<table>\n",
              "    <thead>\n",
              "        <tr>\n",
              "            <th>COMMUNITY_AREA_NAME</th>\n",
              "        </tr>\n",
              "    </thead>\n",
              "    <tbody>\n",
              "        <tr>\n",
              "            <td>Riverdale</td>\n",
              "        </tr>\n",
              "    </tbody>\n",
              "</table>"
            ]
          },
          "metadata": {},
          "execution_count": 17
        }
      ]
    },
    {
      "cell_type": "code",
      "source": [
        "# Use a sub-query to determine the Community Area Name with most number of crimes?\n",
        "%%sql SELECT COMMUNITY_AREA_NAME FROM CENSUS_DATA WHERE COMMUNITY_AREA_NUMBER = (SELECT COMMUNITY_AREA_NUMBER\n",
        "FROM CHICAGO_CRIME_DATA GROUP BY COMMUNITY_AREA_NUMBER ORDER BY COUNT(*) DESC LIMIT 1)"
      ],
      "metadata": {
        "colab": {
          "base_uri": "https://localhost:8080/",
          "height": 97
        },
        "id": "eS91FvPrPXZi",
        "outputId": "b6448a46-5ffa-41f6-a301-fa77066e4c1d"
      },
      "execution_count": null,
      "outputs": [
        {
          "output_type": "stream",
          "name": "stdout",
          "text": [
            " * sqlite:///FinalDB.db\n",
            "Done.\n"
          ]
        },
        {
          "output_type": "execute_result",
          "data": {
            "text/plain": [
              "[('Austin',)]"
            ],
            "text/html": [
              "<table>\n",
              "    <thead>\n",
              "        <tr>\n",
              "            <th>COMMUNITY_AREA_NAME</th>\n",
              "        </tr>\n",
              "    </thead>\n",
              "    <tbody>\n",
              "        <tr>\n",
              "            <td>Austin</td>\n",
              "        </tr>\n",
              "    </tbody>\n",
              "</table>"
            ]
          },
          "metadata": {},
          "execution_count": 18
        }
      ]
    },
    {
      "cell_type": "code",
      "source": [
        "# Write and execute a SQL query to list the school names, community names and average attendance for communities with a hardship index of 98.\n",
        "%%sql SELECT CPS.Name_of_School AS School_Name, CD.COMMUNITY_AREA_NUMBER AS Community_Name, AVG(CPS.Average_Student_Attendance) AS Average_Attendance\n",
        "FROM CHICAGO_PUBLIC_SCHOOLS_DATA CPS\n",
        "LEFT JOIN CENSUS_DATA CD ON CPS.Community_Area_Number = CD.COMMUNITY_AREA_NUMBER\n",
        "WHERE CD.HARDSHIP_INDEX = 98\n",
        "GROUP BY CPS.Name_of_School, CD.COMMUNITY_AREA_NUMBER;"
      ],
      "metadata": {
        "colab": {
          "base_uri": "https://localhost:8080/",
          "height": 161
        },
        "id": "0EMSOssXZU2k",
        "outputId": "63b630eb-134c-486b-b6e0-869660a63eac"
      },
      "execution_count": 30,
      "outputs": [
        {
          "output_type": "stream",
          "name": "stdout",
          "text": [
            " * sqlite:///FinalDB.db\n",
            "Done.\n"
          ]
        },
        {
          "output_type": "execute_result",
          "data": {
            "text/plain": [
              "[('George Washington Carver Military Academy High School', 54.0, 91.6),\n",
              " ('George Washington Carver Primary School', 54.0, 90.9),\n",
              " ('Ira F Aldridge Elementary School', 54.0, 92.9),\n",
              " ('William E B Dubois Elementary School', 54.0, 93.3)]"
            ],
            "text/html": [
              "<table>\n",
              "    <thead>\n",
              "        <tr>\n",
              "            <th>School_Name</th>\n",
              "            <th>Community_Name</th>\n",
              "            <th>Average_Attendance</th>\n",
              "        </tr>\n",
              "    </thead>\n",
              "    <tbody>\n",
              "        <tr>\n",
              "            <td>George Washington Carver Military Academy High School</td>\n",
              "            <td>54.0</td>\n",
              "            <td>91.6</td>\n",
              "        </tr>\n",
              "        <tr>\n",
              "            <td>George Washington Carver Primary School</td>\n",
              "            <td>54.0</td>\n",
              "            <td>90.9</td>\n",
              "        </tr>\n",
              "        <tr>\n",
              "            <td>Ira F Aldridge Elementary School</td>\n",
              "            <td>54.0</td>\n",
              "            <td>92.9</td>\n",
              "        </tr>\n",
              "        <tr>\n",
              "            <td>William E B Dubois Elementary School</td>\n",
              "            <td>54.0</td>\n",
              "            <td>93.3</td>\n",
              "        </tr>\n",
              "    </tbody>\n",
              "</table>"
            ]
          },
          "metadata": {},
          "execution_count": 30
        }
      ]
    },
    {
      "cell_type": "code",
      "source": [
        "# Write and execute a SQL query to list all crimes that took place at a school. Include case number, crime type and community name\n",
        "%%sql SELECT CCD.Case_Number, CCD.Primary_Type AS Crime_Type, CD.COMMUNITY_AREA_NAME AS Community_Name\n",
        "FROM CHICAGO_CRIME_DATA CCD\n",
        "JOIN CENSUS_DATA CD ON CCD.Community_Area_Number = CD.COMMUNITY_AREA_NUMBER\n",
        "WHERE CCD.Location_Description LIKE '%SCHOOL%'"
      ],
      "metadata": {
        "colab": {
          "base_uri": "https://localhost:8080/",
          "height": 289
        },
        "id": "DgGkUvbmcJIG",
        "outputId": "d82b47ea-5365-432e-ddd9-3a478b78cdab"
      },
      "execution_count": 36,
      "outputs": [
        {
          "output_type": "stream",
          "name": "stdout",
          "text": [
            " * sqlite:///FinalDB.db\n",
            "Done.\n"
          ]
        },
        {
          "output_type": "execute_result",
          "data": {
            "text/plain": [
              "[('HL353697', 'BATTERY', 'South Shore'),\n",
              " ('HL725506', 'BATTERY', 'Lincoln Square'),\n",
              " ('HP716225', 'BATTERY', 'Douglas'),\n",
              " ('HH639427', 'BATTERY', 'Austin'),\n",
              " ('JA460432', 'BATTERY', 'Ashburn'),\n",
              " ('HS200939', 'CRIMINAL DAMAGE', 'Austin'),\n",
              " ('HK577020', 'NARCOTICS', 'Rogers Park'),\n",
              " ('HS305355', 'NARCOTICS', 'Brighton Park'),\n",
              " ('HT315369', 'ASSAULT', 'East Garfield Park'),\n",
              " ('HR585012', 'CRIMINAL TRESPASS', 'Ashburn')]"
            ],
            "text/html": [
              "<table>\n",
              "    <thead>\n",
              "        <tr>\n",
              "            <th>CASE_NUMBER</th>\n",
              "            <th>Crime_Type</th>\n",
              "            <th>Community_Name</th>\n",
              "        </tr>\n",
              "    </thead>\n",
              "    <tbody>\n",
              "        <tr>\n",
              "            <td>HL353697</td>\n",
              "            <td>BATTERY</td>\n",
              "            <td>South Shore</td>\n",
              "        </tr>\n",
              "        <tr>\n",
              "            <td>HL725506</td>\n",
              "            <td>BATTERY</td>\n",
              "            <td>Lincoln Square</td>\n",
              "        </tr>\n",
              "        <tr>\n",
              "            <td>HP716225</td>\n",
              "            <td>BATTERY</td>\n",
              "            <td>Douglas</td>\n",
              "        </tr>\n",
              "        <tr>\n",
              "            <td>HH639427</td>\n",
              "            <td>BATTERY</td>\n",
              "            <td>Austin</td>\n",
              "        </tr>\n",
              "        <tr>\n",
              "            <td>JA460432</td>\n",
              "            <td>BATTERY</td>\n",
              "            <td>Ashburn</td>\n",
              "        </tr>\n",
              "        <tr>\n",
              "            <td>HS200939</td>\n",
              "            <td>CRIMINAL DAMAGE</td>\n",
              "            <td>Austin</td>\n",
              "        </tr>\n",
              "        <tr>\n",
              "            <td>HK577020</td>\n",
              "            <td>NARCOTICS</td>\n",
              "            <td>Rogers Park</td>\n",
              "        </tr>\n",
              "        <tr>\n",
              "            <td>HS305355</td>\n",
              "            <td>NARCOTICS</td>\n",
              "            <td>Brighton Park</td>\n",
              "        </tr>\n",
              "        <tr>\n",
              "            <td>HT315369</td>\n",
              "            <td>ASSAULT</td>\n",
              "            <td>East Garfield Park</td>\n",
              "        </tr>\n",
              "        <tr>\n",
              "            <td>HR585012</td>\n",
              "            <td>CRIMINAL TRESPASS</td>\n",
              "            <td>Ashburn</td>\n",
              "        </tr>\n",
              "    </tbody>\n",
              "</table>"
            ]
          },
          "metadata": {},
          "execution_count": 36
        }
      ]
    },
    {
      "cell_type": "code",
      "source": [
        "%%sql CREATE VIEW School_Ratings_View AS\n",
        "SELECT\n",
        "    NAME_OF_SCHOOL AS School_Name,\n",
        "    Safety_Icon AS Safety_Rating,\n",
        "    Family_Involvement_Icon AS Family_Rating,\n",
        "    Environment_Icon AS Environment_Rating,\n",
        "    Instruction_Icon AS Instruction_Rating,\n",
        "    Leaders_Icon AS Leaders_Rating,\n",
        "    Teachers_Icon AS Teachers_Rating\n",
        "FROM\n",
        "    CHICAGO_PUBLIC_SCHOOLS_DATA;"
      ],
      "metadata": {
        "colab": {
          "base_uri": "https://localhost:8080/"
        },
        "id": "hQ4O0zArhe-3",
        "outputId": "bc6d733a-a779-4f73-ddbd-a988137fed6b"
      },
      "execution_count": 40,
      "outputs": [
        {
          "output_type": "stream",
          "name": "stdout",
          "text": [
            " * sqlite:///FinalDB.db\n",
            "Done.\n"
          ]
        },
        {
          "output_type": "execute_result",
          "data": {
            "text/plain": [
              "[]"
            ]
          },
          "metadata": {},
          "execution_count": 40
        }
      ]
    },
    {
      "cell_type": "code",
      "source": [
        "%%sql SELECT * FROM School_Ratings_View;"
      ],
      "metadata": {
        "id": "mS0Q7JbWiLNN"
      },
      "execution_count": null,
      "outputs": []
    },
    {
      "cell_type": "code",
      "source": [
        "%sql SELECT School_Name, Leaders_Rating FROM School_Ratings_View;"
      ],
      "metadata": {
        "id": "RXd33RYBi-S1"
      },
      "execution_count": null,
      "outputs": []
    }
  ]
}